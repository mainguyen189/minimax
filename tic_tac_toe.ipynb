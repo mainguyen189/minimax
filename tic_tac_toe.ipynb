{
  "nbformat": 4,
  "nbformat_minor": 0,
  "metadata": {
    "colab": {
      "provenance": [],
      "authorship_tag": "ABX9TyNgMicMZy7Vm5yeDWg4pQiW",
      "include_colab_link": true
    },
    "kernelspec": {
      "name": "python3",
      "display_name": "Python 3"
    },
    "language_info": {
      "name": "python"
    }
  },
  "cells": [
    {
      "cell_type": "markdown",
      "metadata": {
        "id": "view-in-github",
        "colab_type": "text"
      },
      "source": [
        "<a href=\"https://colab.research.google.com/github/mion158/minimax/blob/main/tic_tac_toe.ipynb\" target=\"_parent\"><img src=\"https://colab.research.google.com/assets/colab-badge.svg\" alt=\"Open In Colab\"/></a>"
      ]
    },
    {
      "cell_type": "markdown",
      "source": [
        "Base case for minimax function\n"
      ],
      "metadata": {
        "id": "80TD0_fwahEh"
      }
    },
    {
      "cell_type": "code",
      "source": [
        "def print_board(board):\n",
        "    print(\"|-------------|\")\n",
        "    print(\"| Tic Tac Toe |\")\n",
        "    print(\"|-------------|\")\n",
        "    print(\"|             |\")\n",
        "    print(\"|    \" + board[0][0] + \" \" + board[0][1] + \" \" + board[0][2] + \"    |\")\n",
        "    print(\"|    \" + board[1][0] + \" \" + board[1][1] + \" \" + board[1][2] + \"    |\")\n",
        "    print(\"|    \" + board[2][0] + \" \" + board[2][1] + \" \" + board[2][2] + \"    |\")\n",
        "    print(\"|             |\")\n",
        "    print(\"|-------------|\")\n",
        "    print()\n",
        "\n",
        "\n",
        "def select_space(board, move, turn):\n",
        "    if move not in range(1,10):\n",
        "        return False\n",
        "    row = int((move-1)/3)\n",
        "    col = (move-1)%3\n",
        "    if board[row][col] != \"X\" and board[row][col] != \"O\":\n",
        "        board[row][col] = turn\n",
        "        return True\n",
        "    else:\n",
        "        return False"
      ],
      "metadata": {
        "id": "3LI9117MaWi7"
      },
      "execution_count": 17,
      "outputs": []
    },
    {
      "cell_type": "code",
      "source": [
        "def available_moves(board):\n",
        "    moves = []\n",
        "    for row in board:\n",
        "        for col in row:\n",
        "            if col != \"X\" and col != \"O\":\n",
        "                moves.append(int(col))\n",
        "    return moves\n",
        "\n",
        "def has_won(board, player):\n",
        "    for row in board:\n",
        "        if row.count(player) == 3:\n",
        "            return True\n",
        "    for i in range(3):\n",
        "        if board[0][i] == player and board[1][i] == player and board[2][i] == player:\n",
        "            return True\n",
        "    if board[0][0] == player and board[1][1] == player and board[2][2] == player:\n",
        "        return True\n",
        "    if board[0][2] == player and board[1][1] == player and board[2][0] == player:\n",
        "        return True\n",
        "    return False"
      ],
      "metadata": {
        "id": "ymkDQEItcC8H"
      },
      "execution_count": 18,
      "outputs": []
    },
    {
      "cell_type": "code",
      "source": [
        "start_board = [\n",
        "\t[\"1\", \"2\", \"3\"],\n",
        "\t[\"4\", \"5\", \"6\"],\n",
        "\t[\"7\", \"8\", \"9\"]\n",
        "]\n",
        "\n",
        "x_won = [\n",
        "\t[\"X\", \"O\", \"3\"],\n",
        "\t[\"4\", \"X\", \"O\"],\n",
        "\t[\"7\", \"8\", \"X\"]\n",
        "]\n",
        "\n",
        "o_won = [\n",
        "\t[\"O\", \"X\", \"3\"],\n",
        "\t[\"O\", \"X\", \"X\"],\n",
        "\t[\"O\", \"8\", \"9\"]\n",
        "]\n",
        "\n",
        "tie = [\n",
        "\t[\"X\", \"X\", \"O\"],\n",
        "\t[\"O\", \"O\", \"X\"],\n",
        "\t[\"X\", \"O\", \"X\"]\n",
        "]\n",
        "\n",
        "def game_is_over(board):\n",
        "  return has_won(board, \"X\") or has_won(board, \"O\") or len(available_moves(board)) == 0\n",
        "\n",
        "print(game_is_over(start_board))\n",
        "print(game_is_over(x_won))\n",
        "print(game_is_over(o_won))\n",
        "print(game_is_over(tie))\n"
      ],
      "metadata": {
        "colab": {
          "base_uri": "https://localhost:8080/"
        },
        "id": "xI-a-1VwaZSs",
        "outputId": "43ab34e7-f378-4eba-e316-f4e74584d08f"
      },
      "execution_count": 19,
      "outputs": [
        {
          "output_type": "stream",
          "name": "stdout",
          "text": [
            "False\n",
            "True\n",
            "True\n",
            "True\n"
          ]
        }
      ]
    },
    {
      "cell_type": "markdown",
      "source": [
        "minimax() function is now returning a list of [value, move] \n",
        "\n",
        "move gives you the number you should pick to play an optimal game of Tic-Tac-Toe for any given game state.\n",
        "\n",
        "The minimax algorithm returns the best possible move for a given game state. It assumes that your opponent will also be using the minimax algorithm to determine their best move."
      ],
      "metadata": {
        "id": "AkiRQvJ3avj1"
      }
    },
    {
      "cell_type": "code",
      "source": [
        "def evaluate_board(board):\n",
        "  if has_won(board, \"X\"):\n",
        "    return 1\n",
        "  elif has_won(board, \"O\"):\n",
        "    return -1\n",
        "  else:\n",
        "    return 0\n",
        "\n",
        "def minimax(input_board, is_maximizing):\n",
        "  # Base case - the game is over, so we return the value of the board\n",
        "  if game_is_over(input_board):\n",
        "    return [evaluate_board(input_board), \"\"]\n",
        "  # The maximizing player\n",
        "  if is_maximizing:\n",
        "    # The best value starts at the lowest possible value\n",
        "    best_value = -float(\"Inf\")\n",
        "    best_move = \"\"\n",
        "    # Loop through all the available moves\n",
        "    for move in available_moves(input_board):\n",
        "      # Make a copy of the board and apply the move to it\n",
        "      new_board = deepcopy(input_board)\n",
        "      select_space(new_board, move, \"X\")\n",
        "      # Recursively find your opponent's best move\n",
        "      hypothetical_value = minimax(new_board, False)[0]\n",
        "      # Update best value if you found a better hypothetical value\n",
        "      if hypothetical_value > best_value:\n",
        "        best_value = hypothetical_value\n",
        "        best_move = move\n",
        "    return [best_value, best_move]\n",
        "  # The minimizing player\n",
        "  else:\n",
        "    # The best value starts at the highest possible value\n",
        "    best_value = float(\"Inf\")\n",
        "    best_move = \"\"\n",
        "    # Testing all potential moves\n",
        "    for move in available_moves(input_board):\n",
        "      # Copying the board and making the move\n",
        "      new_board = deepcopy(input_board)\n",
        "      select_space(new_board, move, \"O\")\n",
        "      # Passing the new board back to the maximizing player\n",
        "      hypothetical_value = minimax(new_board, True)[0]\n",
        "      # Keeping track of the best value seen so far\n",
        "      if hypothetical_value < best_value:\n",
        "        best_value = hypothetical_value\n",
        "        best_move = move\n",
        "    return [best_value, best_move]"
      ],
      "metadata": {
        "id": "ZI4MT-5mauqp"
      },
      "execution_count": 24,
      "outputs": []
    },
    {
      "cell_type": "code",
      "source": [
        "from copy import deepcopy"
      ],
      "metadata": {
        "id": "uIQhD1VkbHdD"
      },
      "execution_count": 21,
      "outputs": []
    },
    {
      "cell_type": "markdown",
      "source": [
        "play game"
      ],
      "metadata": {
        "id": "bZxYcmC3bLgq"
      }
    },
    {
      "cell_type": "code",
      "source": [
        "my_board = [\n",
        "\t[\"1\", \"2\", \"3\"],\n",
        "\t[\"4\", \"5\", \"6\"],\n",
        "\t[\"7\", \"8\", \"9\"]\n",
        "]\n",
        "\n",
        "print_board(my_board)"
      ],
      "metadata": {
        "colab": {
          "base_uri": "https://localhost:8080/"
        },
        "id": "Cj8muwhAau2_",
        "outputId": "d8a366b5-0fe0-4839-9713-a1ae374653fb"
      },
      "execution_count": 25,
      "outputs": [
        {
          "output_type": "stream",
          "name": "stdout",
          "text": [
            "|-------------|\n",
            "| Tic Tac Toe |\n",
            "|-------------|\n",
            "|             |\n",
            "|    1 2 3    |\n",
            "|    4 5 6    |\n",
            "|    7 8 9    |\n",
            "|             |\n",
            "|-------------|\n",
            "\n"
          ]
        }
      ]
    },
    {
      "cell_type": "code",
      "source": [
        "while not game_is_over(my_board):\n",
        "  select_space(my_board, minimax(my_board, True)[1], \"X\")\n",
        "  print_board(my_board)\n",
        "  if not game_is_over(my_board):\n",
        "    select_space(my_board, minimax(my_board, False)[1], \"O\")\n",
        "    print_board(my_board)  "
      ],
      "metadata": {
        "colab": {
          "base_uri": "https://localhost:8080/"
        },
        "id": "ql6MIH4ic_-X",
        "outputId": "29c22dc8-e0a7-4764-a38a-c7ecfe0d9c4b"
      },
      "execution_count": 26,
      "outputs": [
        {
          "output_type": "stream",
          "name": "stdout",
          "text": [
            "|-------------|\n",
            "| Tic Tac Toe |\n",
            "|-------------|\n",
            "|             |\n",
            "|    X 2 3    |\n",
            "|    4 5 6    |\n",
            "|    7 8 9    |\n",
            "|             |\n",
            "|-------------|\n",
            "\n",
            "|-------------|\n",
            "| Tic Tac Toe |\n",
            "|-------------|\n",
            "|             |\n",
            "|    X 2 3    |\n",
            "|    4 O 6    |\n",
            "|    7 8 9    |\n",
            "|             |\n",
            "|-------------|\n",
            "\n",
            "|-------------|\n",
            "| Tic Tac Toe |\n",
            "|-------------|\n",
            "|             |\n",
            "|    X X 3    |\n",
            "|    4 O 6    |\n",
            "|    7 8 9    |\n",
            "|             |\n",
            "|-------------|\n",
            "\n",
            "|-------------|\n",
            "| Tic Tac Toe |\n",
            "|-------------|\n",
            "|             |\n",
            "|    X X O    |\n",
            "|    4 O 6    |\n",
            "|    7 8 9    |\n",
            "|             |\n",
            "|-------------|\n",
            "\n",
            "|-------------|\n",
            "| Tic Tac Toe |\n",
            "|-------------|\n",
            "|             |\n",
            "|    X X O    |\n",
            "|    4 O 6    |\n",
            "|    X 8 9    |\n",
            "|             |\n",
            "|-------------|\n",
            "\n",
            "|-------------|\n",
            "| Tic Tac Toe |\n",
            "|-------------|\n",
            "|             |\n",
            "|    X X O    |\n",
            "|    O O 6    |\n",
            "|    X 8 9    |\n",
            "|             |\n",
            "|-------------|\n",
            "\n",
            "|-------------|\n",
            "| Tic Tac Toe |\n",
            "|-------------|\n",
            "|             |\n",
            "|    X X O    |\n",
            "|    O O X    |\n",
            "|    X 8 9    |\n",
            "|             |\n",
            "|-------------|\n",
            "\n",
            "|-------------|\n",
            "| Tic Tac Toe |\n",
            "|-------------|\n",
            "|             |\n",
            "|    X X O    |\n",
            "|    O O X    |\n",
            "|    X O 9    |\n",
            "|             |\n",
            "|-------------|\n",
            "\n",
            "|-------------|\n",
            "| Tic Tac Toe |\n",
            "|-------------|\n",
            "|             |\n",
            "|    X X O    |\n",
            "|    O O X    |\n",
            "|    X O X    |\n",
            "|             |\n",
            "|-------------|\n",
            "\n"
          ]
        }
      ]
    }
  ]
}